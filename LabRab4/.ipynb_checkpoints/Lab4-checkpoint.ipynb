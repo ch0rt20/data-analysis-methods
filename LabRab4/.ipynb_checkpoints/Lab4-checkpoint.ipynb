{
 "cells": [
  {
   "cell_type": "code",
   "execution_count": 3,
   "id": "3e42ef16",
   "metadata": {
    "scrolled": true
   },
   "outputs": [
    {
     "ename": "ModuleNotFoundError",
     "evalue": "No module named 'factor_analyzer'",
     "output_type": "error",
     "traceback": [
      "\u001b[1;31m---------------------------------------------------------------------------\u001b[0m",
      "\u001b[1;31mModuleNotFoundError\u001b[0m                       Traceback (most recent call last)",
      "Input \u001b[1;32mIn [3]\u001b[0m, in \u001b[0;36m<cell line: 7>\u001b[1;34m()\u001b[0m\n\u001b[0;32m      5\u001b[0m \u001b[38;5;28;01mfrom\u001b[39;00m \u001b[38;5;21;01msklearn\u001b[39;00m\u001b[38;5;21;01m.\u001b[39;00m\u001b[38;5;21;01mdecomposition\u001b[39;00m \u001b[38;5;28;01mimport\u001b[39;00m PCA\n\u001b[0;32m      6\u001b[0m \u001b[38;5;28;01mfrom\u001b[39;00m \u001b[38;5;21;01msklearn\u001b[39;00m\u001b[38;5;21;01m.\u001b[39;00m\u001b[38;5;21;01mpreprocessing\u001b[39;00m \u001b[38;5;28;01mimport\u001b[39;00m StandardScaler\n\u001b[1;32m----> 7\u001b[0m \u001b[38;5;28;01mfrom\u001b[39;00m \u001b[38;5;21;01mfactor_analyzer\u001b[39;00m \u001b[38;5;28;01mimport\u001b[39;00m FactorAnalyzer\n",
      "\u001b[1;31mModuleNotFoundError\u001b[0m: No module named 'factor_analyzer'"
     ]
    }
   ],
   "source": [
    "import numpy as np\n",
    "import pandas as pd\n",
    "import seaborn as sns\n",
    "import matplotlib.pyplot as plt\n",
    "from sklearn.decomposition import PCA\n",
    "from sklearn.preprocessing import StandardScaler\n",
    "from factor_analyzer import FactorAnalyzer"
   ]
  },
  {
   "cell_type": "code",
   "execution_count": 4,
   "id": "a66f8b1e",
   "metadata": {},
   "outputs": [
    {
     "name": "stdout",
     "output_type": "stream",
     "text": [
      "          Density     BodyFat         Age      Weight      Height        Neck  \\\n",
      "count  252.000000  252.000000  252.000000  252.000000  252.000000  252.000000   \n",
      "mean     1.055574   19.150794   44.884921  178.924405   70.148810   37.992063   \n",
      "std      0.019031    8.368740   12.602040   29.389160    3.662856    2.430913   \n",
      "min      0.995000    0.000000   22.000000  118.500000   29.500000   31.100000   \n",
      "25%      1.041400   12.475000   35.750000  159.000000   68.250000   36.400000   \n",
      "50%      1.054900   19.200000   43.000000  176.500000   70.000000   38.000000   \n",
      "75%      1.070400   25.300000   54.000000  197.000000   72.250000   39.425000   \n",
      "max      1.108900   47.500000   81.000000  363.150000   77.750000   51.200000   \n",
      "\n",
      "            Chest     Abdomen         Hip       Thigh        Knee       Ankle  \\\n",
      "count  252.000000  252.000000  252.000000  252.000000  252.000000  252.000000   \n",
      "mean   100.824206   92.555952   99.904762   59.405952   38.590476   23.102381   \n",
      "std      8.430476   10.783077    7.164058    5.249952    2.411805    1.694893   \n",
      "min     79.300000   69.400000   85.000000   47.200000   33.000000   19.100000   \n",
      "25%     94.350000   84.575000   95.500000   56.000000   36.975000   22.000000   \n",
      "50%     99.650000   90.950000   99.300000   59.000000   38.500000   22.800000   \n",
      "75%    105.375000   99.325000  103.525000   62.350000   39.925000   24.000000   \n",
      "max    136.200000  148.100000  147.700000   87.300000   49.100000   33.900000   \n",
      "\n",
      "           Biceps     Forearm       Wrist  \n",
      "count  252.000000  252.000000  252.000000  \n",
      "mean    32.273413   28.663889   18.229762  \n",
      "std      3.021274    2.020691    0.933585  \n",
      "min     24.800000   21.000000   15.800000  \n",
      "25%     30.200000   27.300000   17.600000  \n",
      "50%     32.050000   28.700000   18.300000  \n",
      "75%     34.325000   30.000000   18.800000  \n",
      "max     45.000000   34.900000   21.400000  \n"
     ]
    }
   ],
   "source": [
    "df=pd.read_csv('bodyfat.csv')\n",
    "print(df.describe())"
   ]
  },
  {
   "cell_type": "code",
   "execution_count": null,
   "id": "e6e8ac1f",
   "metadata": {},
   "outputs": [],
   "source": [
    "sns.pairplot(df,hue='Age',diag_kws={'bw': 0.2})"
   ]
  },
  {
   "cell_type": "code",
   "execution_count": null,
   "id": "c303e3d1",
   "metadata": {},
   "outputs": [],
   "source": []
  },
  {
   "cell_type": "code",
   "execution_count": null,
   "id": "9af73cb2",
   "metadata": {},
   "outputs": [],
   "source": []
  },
  {
   "cell_type": "code",
   "execution_count": null,
   "id": "9da89c60",
   "metadata": {},
   "outputs": [],
   "source": []
  }
 ],
 "metadata": {
  "kernelspec": {
   "display_name": "Python 3 (ipykernel)",
   "language": "python",
   "name": "python3"
  },
  "language_info": {
   "codemirror_mode": {
    "name": "ipython",
    "version": 3
   },
   "file_extension": ".py",
   "mimetype": "text/x-python",
   "name": "python",
   "nbconvert_exporter": "python",
   "pygments_lexer": "ipython3",
   "version": "3.9.12"
  }
 },
 "nbformat": 4,
 "nbformat_minor": 5
}
